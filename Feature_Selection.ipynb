{
 "cells": [
  {
   "cell_type": "code",
   "execution_count": 135,
   "metadata": {},
   "outputs": [],
   "source": [
    "import pandas as pd\n",
    "from sklearn.ensemble import RandomForestRegressor\n",
    "from sklearn.preprocessing import LabelEncoder\n",
    "from sklearn.feature_selection import SelectKBest, f_regression"
   ]
  },
  {
   "cell_type": "code",
   "execution_count": 136,
   "metadata": {},
   "outputs": [],
   "source": [
    "# Load the dataset\n",
    "df = pd.read_csv('/Users/mabuhannood/Downloads/Project/Orders_Cleaned.csv')"
   ]
  },
  {
   "cell_type": "code",
   "execution_count": 137,
   "metadata": {},
   "outputs": [],
   "source": [
    "# Encode categorical variables\n",
    "categorical_columns = df.select_dtypes(include=['object']).columns\n",
    "label_encoders = {col: LabelEncoder() for col in categorical_columns}\n",
    "for col in categorical_columns:\n",
    "    df[col] = label_encoders[col].fit_transform(df[col].astype(str))"
   ]
  },
  {
   "cell_type": "code",
   "execution_count": 138,
   "metadata": {},
   "outputs": [],
   "source": [
    "# Separate features and target\n",
    "X = df.drop(columns=['Order Amount'])\n",
    "y = df['Order Amount']"
   ]
  },
  {
   "cell_type": "markdown",
   "metadata": {},
   "source": [
    "### Random Forest Regressor method"
   ]
  },
  {
   "cell_type": "code",
   "execution_count": 139,
   "metadata": {},
   "outputs": [
    {
     "name": "stdout",
     "output_type": "stream",
     "text": [
      "Selected Features:\n",
      "['Rolls Ordered', 'Est. Extended Cost (Line)', 'Sales Order Name', 'Date Created Day', 'Sales Region', 'Parent Record', 'Memo', 'Actual Ship Date Day']\n"
     ]
    }
   ],
   "source": [
    "# Fit a Random Forest Regressor for feature importance\n",
    "rf_model = RandomForestRegressor(random_state=42)\n",
    "rf_model.fit(X, y)\n",
    "\n",
    "# Get feature importance\n",
    "feature_importance = pd.Series(rf_model.feature_importances_, index=X.columns).sort_values(ascending=False)\n",
    "\n",
    "# Select features with importance above a threshold\n",
    "selected_features = feature_importance[feature_importance > 0.005].index.tolist()\n",
    "\n",
    "# Filter the dataset to include only selected features\n",
    "X_selected = X[selected_features]\n",
    "\n",
    "# Display selected features\n",
    "print(\"Selected Features:\")\n",
    "print(selected_features)"
   ]
  },
  {
   "cell_type": "markdown",
   "metadata": {},
   "source": [
    "### SelectKBest method"
   ]
  },
  {
   "cell_type": "code",
   "execution_count": 140,
   "metadata": {},
   "outputs": [
    {
     "name": "stdout",
     "output_type": "stream",
     "text": [
      "Feature Scores:\n",
      "Rolls Ordered                11421.399043\n",
      "Est. Extended Cost (Line)    10207.433216\n",
      "Parent Record                   27.302716\n",
      "Actual Ship Date Year           23.674611\n",
      "Sales Order Name                22.665008\n",
      "Date Created Year               21.046153\n",
      "Sales Region                     5.965821\n",
      "Memo                             5.957411\n",
      "Project Use Type                 5.040468\n",
      "Date Created Day                 2.928927\n",
      "Actual Ship Date Day             0.683685\n",
      "Actual Ship Date Month           0.002299\n",
      "Date Created Month               0.000540\n",
      "dtype: float64\n",
      "\n",
      "Features selected by SelectKBest:\n",
      "['Rolls Ordered', 'Est. Extended Cost (Line)', 'Parent Record', 'Actual Ship Date Year', 'Sales Order Name', 'Date Created Year', 'Sales Region', 'Memo', 'Project Use Type']\n"
     ]
    }
   ],
   "source": [
    "# Use SelectKBest for comparison\n",
    "selector = SelectKBest(score_func=f_regression, k='all')\n",
    "X_new = selector.fit_transform(X, y)\n",
    "\n",
    "# Get scores for each feature\n",
    "scores = pd.Series(selector.scores_, index=X.columns).sort_values(ascending=False)\n",
    "\n",
    "# Display scores\n",
    "print(\"Feature Scores:\")\n",
    "print(scores)\n",
    "\n",
    "# Select features based on a threshold\n",
    "selected_features_stat = scores[scores > 5].index.tolist()  # Adjust threshold as needed\n",
    "\n",
    "print(\"\\nFeatures selected by SelectKBest:\")\n",
    "print(selected_features_stat)\n"
   ]
  },
  {
   "cell_type": "code",
   "execution_count": null,
   "metadata": {},
   "outputs": [],
   "source": []
  }
 ],
 "metadata": {
  "kernelspec": {
   "display_name": "Python 3",
   "language": "python",
   "name": "python3"
  },
  "language_info": {
   "codemirror_mode": {
    "name": "ipython",
    "version": 3
   },
   "file_extension": ".py",
   "mimetype": "text/x-python",
   "name": "python",
   "nbconvert_exporter": "python",
   "pygments_lexer": "ipython3",
   "version": "3.10.0"
  }
 },
 "nbformat": 4,
 "nbformat_minor": 2
}
