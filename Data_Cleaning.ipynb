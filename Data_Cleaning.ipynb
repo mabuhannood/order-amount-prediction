{
 "cells": [
  {
   "cell_type": "code",
   "execution_count": 945,
   "metadata": {},
   "outputs": [],
   "source": [
    "import pandas as pd\n",
    "from sklearn.impute import SimpleImputer"
   ]
  },
  {
   "cell_type": "markdown",
   "metadata": {},
   "source": [
    "### Importing the dataset\n"
   ]
  },
  {
   "cell_type": "code",
   "execution_count": 946,
   "metadata": {},
   "outputs": [
    {
     "name": "stdout",
     "output_type": "stream",
     "text": [
      "Windows-1252\n"
     ]
    }
   ],
   "source": [
    "import chardet\n",
    "\n",
    "# Read the file in binary mode\n",
    "with open('/Users/mabuhannood/Downloads/Project/Orders.csv', 'rb') as file:\n",
    "    result = chardet.detect(file.read())\n",
    "print(result['encoding'])\n",
    "\n",
    "df = pd.read_csv('/Users/mabuhannood/Downloads/Project/Orders.csv', encoding=result['encoding'])\n"
   ]
  },
  {
   "cell_type": "markdown",
   "metadata": {},
   "source": [
    "### Data Preprocessing"
   ]
  },
  {
   "cell_type": "markdown",
   "metadata": {},
   "source": [
    "- Check the shape of the dataframe\n",
    "\n",
    "\n"
   ]
  },
  {
   "cell_type": "code",
   "execution_count": 947,
   "metadata": {},
   "outputs": [
    {
     "data": {
      "text/plain": [
       "(1280, 33)"
      ]
     },
     "execution_count": 947,
     "metadata": {},
     "output_type": "execute_result"
    }
   ],
   "source": [
    "df.shape"
   ]
  },
  {
   "cell_type": "markdown",
   "metadata": {},
   "source": [
    "- Check the description of the dataframe"
   ]
  },
  {
   "cell_type": "code",
   "execution_count": 948,
   "metadata": {},
   "outputs": [
    {
     "data": {
      "text/html": [
       "<div>\n",
       "<style scoped>\n",
       "    .dataframe tbody tr th:only-of-type {\n",
       "        vertical-align: middle;\n",
       "    }\n",
       "\n",
       "    .dataframe tbody tr th {\n",
       "        vertical-align: top;\n",
       "    }\n",
       "\n",
       "    .dataframe thead th {\n",
       "        text-align: right;\n",
       "    }\n",
       "</style>\n",
       "<table border=\"1\" class=\"dataframe\">\n",
       "  <thead>\n",
       "    <tr style=\"text-align: right;\">\n",
       "      <th></th>\n",
       "      <th>Sales Order ID</th>\n",
       "      <th>Order Amount</th>\n",
       "      <th>Project Country</th>\n",
       "      <th>Production Units Type</th>\n",
       "      <th>Next Requested Ship Date</th>\n",
       "      <th>Expiry Date</th>\n",
       "      <th>Awarded Contractors</th>\n",
       "      <th>Project type</th>\n",
       "      <th>Priority#</th>\n",
       "      <th>OA - Invoice</th>\n",
       "      <th>Project Spec</th>\n",
       "      <th>Rolls Ordered</th>\n",
       "      <th>Est. Extended Cost (Line)</th>\n",
       "      <th>Unnamed: 30</th>\n",
       "      <th>Unnamed: 31</th>\n",
       "      <th>Unnamed: 32</th>\n",
       "    </tr>\n",
       "  </thead>\n",
       "  <tbody>\n",
       "    <tr>\n",
       "      <th>count</th>\n",
       "      <td>1.280000e+03</td>\n",
       "      <td>1280.000000</td>\n",
       "      <td>0.0</td>\n",
       "      <td>0.0</td>\n",
       "      <td>0.0</td>\n",
       "      <td>0.0</td>\n",
       "      <td>0.0</td>\n",
       "      <td>0.0</td>\n",
       "      <td>0.0</td>\n",
       "      <td>8.000000</td>\n",
       "      <td>0.0</td>\n",
       "      <td>1280.000000</td>\n",
       "      <td>1280.000000</td>\n",
       "      <td>0.0</td>\n",
       "      <td>0.0</td>\n",
       "      <td>0.0</td>\n",
       "    </tr>\n",
       "    <tr>\n",
       "      <th>mean</th>\n",
       "      <td>9.875728e+06</td>\n",
       "      <td>8048.154992</td>\n",
       "      <td>NaN</td>\n",
       "      <td>NaN</td>\n",
       "      <td>NaN</td>\n",
       "      <td>NaN</td>\n",
       "      <td>NaN</td>\n",
       "      <td>NaN</td>\n",
       "      <td>NaN</td>\n",
       "      <td>2000.000000</td>\n",
       "      <td>NaN</td>\n",
       "      <td>80.624219</td>\n",
       "      <td>4837.344266</td>\n",
       "      <td>NaN</td>\n",
       "      <td>NaN</td>\n",
       "      <td>NaN</td>\n",
       "    </tr>\n",
       "    <tr>\n",
       "      <th>std</th>\n",
       "      <td>7.113035e+06</td>\n",
       "      <td>10376.140182</td>\n",
       "      <td>NaN</td>\n",
       "      <td>NaN</td>\n",
       "      <td>NaN</td>\n",
       "      <td>NaN</td>\n",
       "      <td>NaN</td>\n",
       "      <td>NaN</td>\n",
       "      <td>NaN</td>\n",
       "      <td>1281.739889</td>\n",
       "      <td>NaN</td>\n",
       "      <td>110.613140</td>\n",
       "      <td>6947.535087</td>\n",
       "      <td>NaN</td>\n",
       "      <td>NaN</td>\n",
       "      <td>NaN</td>\n",
       "    </tr>\n",
       "    <tr>\n",
       "      <th>min</th>\n",
       "      <td>3.914340e+05</td>\n",
       "      <td>-336.440000</td>\n",
       "      <td>NaN</td>\n",
       "      <td>NaN</td>\n",
       "      <td>NaN</td>\n",
       "      <td>NaN</td>\n",
       "      <td>NaN</td>\n",
       "      <td>NaN</td>\n",
       "      <td>NaN</td>\n",
       "      <td>0.000000</td>\n",
       "      <td>NaN</td>\n",
       "      <td>1.000000</td>\n",
       "      <td>0.000000</td>\n",
       "      <td>NaN</td>\n",
       "      <td>NaN</td>\n",
       "      <td>NaN</td>\n",
       "    </tr>\n",
       "    <tr>\n",
       "      <th>25%</th>\n",
       "      <td>2.995697e+06</td>\n",
       "      <td>1166.147500</td>\n",
       "      <td>NaN</td>\n",
       "      <td>NaN</td>\n",
       "      <td>NaN</td>\n",
       "      <td>NaN</td>\n",
       "      <td>NaN</td>\n",
       "      <td>NaN</td>\n",
       "      <td>NaN</td>\n",
       "      <td>1500.000000</td>\n",
       "      <td>NaN</td>\n",
       "      <td>11.000000</td>\n",
       "      <td>593.470000</td>\n",
       "      <td>NaN</td>\n",
       "      <td>NaN</td>\n",
       "      <td>NaN</td>\n",
       "    </tr>\n",
       "    <tr>\n",
       "      <th>50%</th>\n",
       "      <td>9.283697e+06</td>\n",
       "      <td>4056.415000</td>\n",
       "      <td>NaN</td>\n",
       "      <td>NaN</td>\n",
       "      <td>NaN</td>\n",
       "      <td>NaN</td>\n",
       "      <td>NaN</td>\n",
       "      <td>NaN</td>\n",
       "      <td>NaN</td>\n",
       "      <td>2500.000000</td>\n",
       "      <td>NaN</td>\n",
       "      <td>36.000000</td>\n",
       "      <td>2172.245000</td>\n",
       "      <td>NaN</td>\n",
       "      <td>NaN</td>\n",
       "      <td>NaN</td>\n",
       "    </tr>\n",
       "    <tr>\n",
       "      <th>75%</th>\n",
       "      <td>1.507399e+07</td>\n",
       "      <td>11387.307500</td>\n",
       "      <td>NaN</td>\n",
       "      <td>NaN</td>\n",
       "      <td>NaN</td>\n",
       "      <td>NaN</td>\n",
       "      <td>NaN</td>\n",
       "      <td>NaN</td>\n",
       "      <td>NaN</td>\n",
       "      <td>3000.000000</td>\n",
       "      <td>NaN</td>\n",
       "      <td>107.750000</td>\n",
       "      <td>6238.195000</td>\n",
       "      <td>NaN</td>\n",
       "      <td>NaN</td>\n",
       "      <td>NaN</td>\n",
       "    </tr>\n",
       "    <tr>\n",
       "      <th>max</th>\n",
       "      <td>2.452849e+07</td>\n",
       "      <td>150375.000000</td>\n",
       "      <td>NaN</td>\n",
       "      <td>NaN</td>\n",
       "      <td>NaN</td>\n",
       "      <td>NaN</td>\n",
       "      <td>NaN</td>\n",
       "      <td>NaN</td>\n",
       "      <td>NaN</td>\n",
       "      <td>3000.000000</td>\n",
       "      <td>NaN</td>\n",
       "      <td>2005.000000</td>\n",
       "      <td>107708.190000</td>\n",
       "      <td>NaN</td>\n",
       "      <td>NaN</td>\n",
       "      <td>NaN</td>\n",
       "    </tr>\n",
       "  </tbody>\n",
       "</table>\n",
       "</div>"
      ],
      "text/plain": [
       "       Sales Order ID   Order Amount  Project Country  Production Units Type  \\\n",
       "count    1.280000e+03    1280.000000              0.0                    0.0   \n",
       "mean     9.875728e+06    8048.154992              NaN                    NaN   \n",
       "std      7.113035e+06   10376.140182              NaN                    NaN   \n",
       "min      3.914340e+05    -336.440000              NaN                    NaN   \n",
       "25%      2.995697e+06    1166.147500              NaN                    NaN   \n",
       "50%      9.283697e+06    4056.415000              NaN                    NaN   \n",
       "75%      1.507399e+07   11387.307500              NaN                    NaN   \n",
       "max      2.452849e+07  150375.000000              NaN                    NaN   \n",
       "\n",
       "       Next Requested Ship Date  Expiry Date  Awarded Contractors  \\\n",
       "count                       0.0          0.0                  0.0   \n",
       "mean                        NaN          NaN                  NaN   \n",
       "std                         NaN          NaN                  NaN   \n",
       "min                         NaN          NaN                  NaN   \n",
       "25%                         NaN          NaN                  NaN   \n",
       "50%                         NaN          NaN                  NaN   \n",
       "75%                         NaN          NaN                  NaN   \n",
       "max                         NaN          NaN                  NaN   \n",
       "\n",
       "       Project type  Priority#  OA - Invoice  Project Spec  Rolls Ordered  \\\n",
       "count           0.0        0.0      8.000000           0.0    1280.000000   \n",
       "mean            NaN        NaN   2000.000000           NaN      80.624219   \n",
       "std             NaN        NaN   1281.739889           NaN     110.613140   \n",
       "min             NaN        NaN      0.000000           NaN       1.000000   \n",
       "25%             NaN        NaN   1500.000000           NaN      11.000000   \n",
       "50%             NaN        NaN   2500.000000           NaN      36.000000   \n",
       "75%             NaN        NaN   3000.000000           NaN     107.750000   \n",
       "max             NaN        NaN   3000.000000           NaN    2005.000000   \n",
       "\n",
       "       Est. Extended Cost (Line)  Unnamed: 30  Unnamed: 31  Unnamed: 32  \n",
       "count                1280.000000          0.0          0.0          0.0  \n",
       "mean                 4837.344266          NaN          NaN          NaN  \n",
       "std                  6947.535087          NaN          NaN          NaN  \n",
       "min                     0.000000          NaN          NaN          NaN  \n",
       "25%                   593.470000          NaN          NaN          NaN  \n",
       "50%                  2172.245000          NaN          NaN          NaN  \n",
       "75%                  6238.195000          NaN          NaN          NaN  \n",
       "max                107708.190000          NaN          NaN          NaN  "
      ]
     },
     "execution_count": 948,
     "metadata": {},
     "output_type": "execute_result"
    }
   ],
   "source": [
    "df.describe()"
   ]
  },
  {
   "cell_type": "markdown",
   "metadata": {},
   "source": [
    "- Display dataset"
   ]
  },
  {
   "cell_type": "code",
   "execution_count": 949,
   "metadata": {},
   "outputs": [
    {
     "data": {
      "text/html": [
       "<div>\n",
       "<style scoped>\n",
       "    .dataframe tbody tr th:only-of-type {\n",
       "        vertical-align: middle;\n",
       "    }\n",
       "\n",
       "    .dataframe tbody tr th {\n",
       "        vertical-align: top;\n",
       "    }\n",
       "\n",
       "    .dataframe thead th {\n",
       "        text-align: right;\n",
       "    }\n",
       "</style>\n",
       "<table border=\"1\" class=\"dataframe\">\n",
       "  <thead>\n",
       "    <tr style=\"text-align: right;\">\n",
       "      <th></th>\n",
       "      <th>Sales Order ID</th>\n",
       "      <th>Sales Order Name</th>\n",
       "      <th>Date Created</th>\n",
       "      <th>Order Name</th>\n",
       "      <th>Item</th>\n",
       "      <th>Memo</th>\n",
       "      <th>Order Amount</th>\n",
       "      <th>Employee Name</th>\n",
       "      <th>Project Use Type</th>\n",
       "      <th>Project Country</th>\n",
       "      <th>...</th>\n",
       "      <th>Rolls Ordered</th>\n",
       "      <th>Est. Extended Cost (Line)</th>\n",
       "      <th>Sales Region</th>\n",
       "      <th>Subsidiary</th>\n",
       "      <th>Customer Requested Ship Date</th>\n",
       "      <th>Actual Ship Date</th>\n",
       "      <th>Parent Record</th>\n",
       "      <th>Unnamed: 30</th>\n",
       "      <th>Unnamed: 31</th>\n",
       "      <th>Unnamed: 32</th>\n",
       "    </tr>\n",
       "  </thead>\n",
       "  <tbody>\n",
       "    <tr>\n",
       "      <th>0</th>\n",
       "      <td>391434</td>\n",
       "      <td>S007092</td>\n",
       "      <td>02-Jan-2018</td>\n",
       "      <td>Going Green Flooring Maintenance &amp; Design</td>\n",
       "      <td>RST02</td>\n",
       "      <td>GenieMat RST02 \\nSound Control Underlayment \\n...</td>\n",
       "      <td>3490.48</td>\n",
       "      <td>NaN</td>\n",
       "      <td>NaN</td>\n",
       "      <td>NaN</td>\n",
       "      <td>...</td>\n",
       "      <td>32</td>\n",
       "      <td>1448.16</td>\n",
       "      <td>NaN</td>\n",
       "      <td>Pliteq Consolidated : Pliteq Inc.</td>\n",
       "      <td>NaN</td>\n",
       "      <td>02-Jan-2018</td>\n",
       "      <td>NaN</td>\n",
       "      <td>NaN</td>\n",
       "      <td>NaN</td>\n",
       "      <td>NaN</td>\n",
       "    </tr>\n",
       "    <tr>\n",
       "      <th>1</th>\n",
       "      <td>391451</td>\n",
       "      <td>S007094</td>\n",
       "      <td>02-Jan-2018</td>\n",
       "      <td>Florida Carpet Service</td>\n",
       "      <td>RST02</td>\n",
       "      <td>GenieMat RST02 \\nSound Control Underlayment \\n...</td>\n",
       "      <td>3490.48</td>\n",
       "      <td>NaN</td>\n",
       "      <td>NaN</td>\n",
       "      <td>NaN</td>\n",
       "      <td>...</td>\n",
       "      <td>32</td>\n",
       "      <td>1448.16</td>\n",
       "      <td>NaN</td>\n",
       "      <td>Pliteq Consolidated : Pliteq Inc.</td>\n",
       "      <td>NaN</td>\n",
       "      <td>15-Feb-2018</td>\n",
       "      <td>NaN</td>\n",
       "      <td>NaN</td>\n",
       "      <td>NaN</td>\n",
       "      <td>NaN</td>\n",
       "    </tr>\n",
       "    <tr>\n",
       "      <th>2</th>\n",
       "      <td>391461</td>\n",
       "      <td>S007095</td>\n",
       "      <td>02-Jan-2018</td>\n",
       "      <td>XSS Hotels</td>\n",
       "      <td>RST02</td>\n",
       "      <td>GenieMat RST02 \\nSound Control Underlayment \\n...</td>\n",
       "      <td>1308.93</td>\n",
       "      <td>NaN</td>\n",
       "      <td>NaN</td>\n",
       "      <td>NaN</td>\n",
       "      <td>...</td>\n",
       "      <td>12</td>\n",
       "      <td>543.06</td>\n",
       "      <td>NaN</td>\n",
       "      <td>Pliteq Consolidated : Pliteq Inc.</td>\n",
       "      <td>NaN</td>\n",
       "      <td>03-Jan-2018</td>\n",
       "      <td>NaN</td>\n",
       "      <td>NaN</td>\n",
       "      <td>NaN</td>\n",
       "      <td>NaN</td>\n",
       "    </tr>\n",
       "    <tr>\n",
       "      <th>3</th>\n",
       "      <td>393955</td>\n",
       "      <td>S007105</td>\n",
       "      <td>03-Jan-2018</td>\n",
       "      <td>ACME BRICK COMPANY</td>\n",
       "      <td>RST02</td>\n",
       "      <td>GenieMat RST02 \\nSound Control Underlayment \\n...</td>\n",
       "      <td>36609.13</td>\n",
       "      <td>NaN</td>\n",
       "      <td>NaN</td>\n",
       "      <td>NaN</td>\n",
       "      <td>...</td>\n",
       "      <td>336</td>\n",
       "      <td>15205.71</td>\n",
       "      <td>NaN</td>\n",
       "      <td>Pliteq Consolidated : Pliteq Inc.</td>\n",
       "      <td>NaN</td>\n",
       "      <td>03-Jan-2018</td>\n",
       "      <td>NaN</td>\n",
       "      <td>NaN</td>\n",
       "      <td>NaN</td>\n",
       "      <td>NaN</td>\n",
       "    </tr>\n",
       "    <tr>\n",
       "      <th>4</th>\n",
       "      <td>397228</td>\n",
       "      <td>S007111</td>\n",
       "      <td>04-Jan-2018</td>\n",
       "      <td>Vector Concepts</td>\n",
       "      <td>RST02</td>\n",
       "      <td>GenieMat RST02 \\nSound Control Underlayment \\n...</td>\n",
       "      <td>1141.87</td>\n",
       "      <td>Pat Reid</td>\n",
       "      <td>GenieMat FIT Only</td>\n",
       "      <td>NaN</td>\n",
       "      <td>...</td>\n",
       "      <td>8</td>\n",
       "      <td>362.04</td>\n",
       "      <td>South/Texas</td>\n",
       "      <td>Pliteq Consolidated : Pliteq Inc.</td>\n",
       "      <td>NaN</td>\n",
       "      <td>07-Mar-2018</td>\n",
       "      <td>E003442</td>\n",
       "      <td>NaN</td>\n",
       "      <td>NaN</td>\n",
       "      <td>NaN</td>\n",
       "    </tr>\n",
       "  </tbody>\n",
       "</table>\n",
       "<p>5 rows × 33 columns</p>\n",
       "</div>"
      ],
      "text/plain": [
       "   Sales Order ID Sales Order Name Date Created  \\\n",
       "0          391434          S007092  02-Jan-2018   \n",
       "1          391451          S007094  02-Jan-2018   \n",
       "2          391461          S007095  02-Jan-2018   \n",
       "3          393955          S007105  03-Jan-2018   \n",
       "4          397228          S007111  04-Jan-2018   \n",
       "\n",
       "                                  Order Name   Item  \\\n",
       "0  Going Green Flooring Maintenance & Design  RST02   \n",
       "1                     Florida Carpet Service  RST02   \n",
       "2                                 XSS Hotels  RST02   \n",
       "3                         ACME BRICK COMPANY  RST02   \n",
       "4                            Vector Concepts  RST02   \n",
       "\n",
       "                                                Memo  Order Amount  \\\n",
       "0  GenieMat RST02 \\nSound Control Underlayment \\n...       3490.48   \n",
       "1  GenieMat RST02 \\nSound Control Underlayment \\n...       3490.48   \n",
       "2  GenieMat RST02 \\nSound Control Underlayment \\n...       1308.93   \n",
       "3  GenieMat RST02 \\nSound Control Underlayment \\n...      36609.13   \n",
       "4  GenieMat RST02 \\nSound Control Underlayment \\n...       1141.87   \n",
       "\n",
       "  Employee Name   Project Use Type  Project Country  ...  Rolls Ordered  \\\n",
       "0           NaN                NaN              NaN  ...             32   \n",
       "1           NaN                NaN              NaN  ...             32   \n",
       "2           NaN                NaN              NaN  ...             12   \n",
       "3           NaN                NaN              NaN  ...            336   \n",
       "4      Pat Reid  GenieMat FIT Only              NaN  ...              8   \n",
       "\n",
       "   Est. Extended Cost (Line)  Sales Region                         Subsidiary  \\\n",
       "0                    1448.16           NaN  Pliteq Consolidated : Pliteq Inc.   \n",
       "1                    1448.16           NaN  Pliteq Consolidated : Pliteq Inc.   \n",
       "2                     543.06           NaN  Pliteq Consolidated : Pliteq Inc.   \n",
       "3                   15205.71           NaN  Pliteq Consolidated : Pliteq Inc.   \n",
       "4                     362.04   South/Texas  Pliteq Consolidated : Pliteq Inc.   \n",
       "\n",
       "  Customer Requested Ship Date  Actual Ship Date Parent Record Unnamed: 30  \\\n",
       "0                          NaN       02-Jan-2018           NaN         NaN   \n",
       "1                          NaN       15-Feb-2018           NaN         NaN   \n",
       "2                          NaN       03-Jan-2018           NaN         NaN   \n",
       "3                          NaN       03-Jan-2018           NaN         NaN   \n",
       "4                          NaN       07-Mar-2018       E003442         NaN   \n",
       "\n",
       "   Unnamed: 31  Unnamed: 32  \n",
       "0          NaN          NaN  \n",
       "1          NaN          NaN  \n",
       "2          NaN          NaN  \n",
       "3          NaN          NaN  \n",
       "4          NaN          NaN  \n",
       "\n",
       "[5 rows x 33 columns]"
      ]
     },
     "execution_count": 949,
     "metadata": {},
     "output_type": "execute_result"
    }
   ],
   "source": [
    "df.head()"
   ]
  },
  {
   "cell_type": "markdown",
   "metadata": {},
   "source": [
    "- Check the data frame informations"
   ]
  },
  {
   "cell_type": "code",
   "execution_count": 950,
   "metadata": {},
   "outputs": [
    {
     "name": "stdout",
     "output_type": "stream",
     "text": [
      "<class 'pandas.core.frame.DataFrame'>\n",
      "RangeIndex: 1280 entries, 0 to 1279\n",
      "Data columns (total 33 columns):\n",
      " #   Column                        Non-Null Count  Dtype  \n",
      "---  ------                        --------------  -----  \n",
      " 0   Sales Order ID                1280 non-null   int64  \n",
      " 1   Sales Order Name              1280 non-null   object \n",
      " 2   Date Created                  1280 non-null   object \n",
      " 3   Order Name                    1280 non-null   object \n",
      " 4   Item                          1280 non-null   object \n",
      " 5   Memo                          1280 non-null   object \n",
      " 6   Order Amount                  1280 non-null   float64\n",
      " 7   Employee Name                 1131 non-null   object \n",
      " 8   Project Use Type              1129 non-null   object \n",
      " 9   Project Country               0 non-null      float64\n",
      " 10  Production Units Type         0 non-null      float64\n",
      " 11  Next Requested Ship Date      0 non-null      float64\n",
      " 12  Expiry Date                   0 non-null      float64\n",
      " 13  Awarded Contractors           0 non-null      float64\n",
      " 14  Sold to distributor           1280 non-null   object \n",
      " 15  Project type                  0 non-null      float64\n",
      " 16  50% Deposit received          1280 non-null   object \n",
      " 17  Deposit Date                  37 non-null     object \n",
      " 18  Priority#                     0 non-null      float64\n",
      " 19  OA - Invoice                  8 non-null      float64\n",
      " 20  Certified                     1280 non-null   object \n",
      " 21  DPE Specification Category    3 non-null      object \n",
      " 22  Project Spec                  0 non-null      float64\n",
      " 23  Rolls Ordered                 1280 non-null   int64  \n",
      " 24  Est. Extended Cost (Line)     1280 non-null   float64\n",
      " 25  Sales Region                  1086 non-null   object \n",
      " 26  Subsidiary                    1280 non-null   object \n",
      " 27  Customer Requested Ship Date  251 non-null    object \n",
      " 28  Actual Ship Date              1245 non-null   object \n",
      " 29  Parent Record                 343 non-null    object \n",
      " 30  Unnamed: 30                   0 non-null      float64\n",
      " 31  Unnamed: 31                   0 non-null      float64\n",
      " 32  Unnamed: 32                   0 non-null      float64\n",
      "dtypes: float64(14), int64(2), object(17)\n",
      "memory usage: 330.1+ KB\n"
     ]
    }
   ],
   "source": [
    "df.info()"
   ]
  },
  {
   "cell_type": "markdown",
   "metadata": {},
   "source": [
    "- Check for the Null values in the dataframe\n",
    "\n"
   ]
  },
  {
   "cell_type": "code",
   "execution_count": 951,
   "metadata": {},
   "outputs": [
    {
     "data": {
      "text/plain": [
       "Sales Order ID                     0\n",
       "Sales Order Name                   0\n",
       "Date Created                       0\n",
       "Order Name                         0\n",
       "Item                               0\n",
       "Memo                               0\n",
       "Order Amount                       0\n",
       "Employee Name                    149\n",
       "Project Use Type                 151\n",
       "Project Country                 1280\n",
       "Production Units Type           1280\n",
       "Next Requested Ship Date        1280\n",
       "Expiry Date                     1280\n",
       "Awarded Contractors             1280\n",
       "Sold to distributor                0\n",
       "Project type                    1280\n",
       "50% Deposit received               0\n",
       "Deposit Date                    1243\n",
       "Priority#                       1280\n",
       "OA - Invoice                    1272\n",
       "Certified                          0\n",
       "DPE Specification Category      1277\n",
       "Project Spec                    1280\n",
       "Rolls Ordered                      0\n",
       "Est. Extended Cost (Line)          0\n",
       "Sales Region                     194\n",
       "Subsidiary                         0\n",
       "Customer Requested Ship Date    1029\n",
       "Actual Ship Date                  35\n",
       "Parent Record                    937\n",
       "Unnamed: 30                     1280\n",
       "Unnamed: 31                     1280\n",
       "Unnamed: 32                     1280\n",
       "dtype: int64"
      ]
     },
     "execution_count": 951,
     "metadata": {},
     "output_type": "execute_result"
    }
   ],
   "source": [
    "#checking for null/missing values\n",
    "df.isnull().sum()"
   ]
  },
  {
   "cell_type": "markdown",
   "metadata": {},
   "source": [
    "- Drop columns with excessive missing values"
   ]
  },
  {
   "cell_type": "code",
   "execution_count": 952,
   "metadata": {},
   "outputs": [],
   "source": [
    "columns_to_drop = [\n",
    "    'Project Country', 'Production Units Type', 'Next Requested Ship Date', 'Expiry Date',\n",
    "    'Awarded Contractors', 'Project type', 'Deposit Date','Priority#', 'OA - Invoice', 'DPE Specification Category',\n",
    "    'Project Spec', 'Customer Requested Ship Date', 'Unnamed: 30', 'Unnamed: 31', 'Unnamed: 32'\n",
    "]\n",
    "df = df.drop(columns=columns_to_drop, axis=1, errors='ignore')"
   ]
  },
  {
   "cell_type": "markdown",
   "metadata": {},
   "source": [
    "- Identify numerical and categorical columns"
   ]
  },
  {
   "cell_type": "code",
   "execution_count": 953,
   "metadata": {},
   "outputs": [
    {
     "name": "stdout",
     "output_type": "stream",
     "text": [
      "Numerical Columns: ['Sales Order ID', 'Order Amount', 'Rolls Ordered', 'Est. Extended Cost (Line)']\n",
      "Categorical Columns: ['Sales Order Name', 'Date Created', 'Order Name', 'Item', 'Memo', 'Employee Name', 'Project Use Type', 'Sold to distributor', '50% Deposit received', 'Certified', 'Sales Region', 'Subsidiary', 'Actual Ship Date', 'Parent Record']\n"
     ]
    }
   ],
   "source": [
    "# Identify numerical columns\n",
    "numerical_cols = df.select_dtypes(include=['float64', 'int64']).columns\n",
    "print(\"Numerical Columns:\", numerical_cols.tolist())\n",
    "\n",
    "# Identify categorical columns\n",
    "categorical_cols = df.select_dtypes(include=['object']).columns\n",
    "print(\"Categorical Columns:\", categorical_cols.tolist())"
   ]
  },
  {
   "cell_type": "markdown",
   "metadata": {},
   "source": [
    "- Handle missing values"
   ]
  },
  {
   "cell_type": "code",
   "execution_count": 954,
   "metadata": {},
   "outputs": [],
   "source": [
    "# Median is chosen for imputation as it is robust to outliers in the data.\n",
    "num_imputer = SimpleImputer(strategy='median')\n",
    "df[numerical_cols] = num_imputer.fit_transform(df[numerical_cols])\n",
    "\n",
    "# Missing categorical values are replaced with 'unknown' to signify lack of data.\n",
    "cat_imputer = SimpleImputer(strategy='constant', fill_value='NA')\n",
    "df[categorical_cols] = cat_imputer.fit_transform(df[categorical_cols])"
   ]
  },
  {
   "cell_type": "markdown",
   "metadata": {},
   "source": [
    "- Convert date columns to datetime format"
   ]
  },
  {
   "cell_type": "code",
   "execution_count": 955,
   "metadata": {},
   "outputs": [],
   "source": [
    "df['Date Created'] = pd.to_datetime(df['Date Created'], errors='coerce')\n",
    "df['Actual Ship Date'] = pd.to_datetime(df['Actual Ship Date'], errors='coerce')"
   ]
  },
  {
   "cell_type": "code",
   "execution_count": 956,
   "metadata": {},
   "outputs": [
    {
     "name": "stdout",
     "output_type": "stream",
     "text": [
      "Rows with Missing Dates (NaT):\n",
      "Date Created: 2 rows\n",
      "Actual Ship Date: 44 rows\n"
     ]
    }
   ],
   "source": [
    "nat_counts = {date_col: df[date_col].isnull().sum() for date_col in ['Date Created', 'Actual Ship Date']}\n",
    "print(\"Rows with Missing Dates (NaT):\")\n",
    "for col, count in nat_counts.items():\n",
    "    print(f\"{col}: {count} rows\")\n"
   ]
  },
  {
   "cell_type": "code",
   "execution_count": 957,
   "metadata": {},
   "outputs": [],
   "source": [
    "# Drop rows with NaT in any of the date columns\n",
    "df = df.dropna(subset=['Date Created', 'Actual Ship Date'])"
   ]
  },
  {
   "cell_type": "code",
   "execution_count": 958,
   "metadata": {},
   "outputs": [
    {
     "name": "stdout",
     "output_type": "stream",
     "text": [
      "Rows with Missing Dates (NaT):\n",
      "Date Created: 0 rows\n",
      "Actual Ship Date: 0 rows\n"
     ]
    }
   ],
   "source": [
    "nat_counts = {date_col: df[date_col].isnull().sum() for date_col in ['Date Created', 'Actual Ship Date']}\n",
    "print(\"Rows with Missing Dates (NaT):\")\n",
    "for col, count in nat_counts.items():\n",
    "    print(f\"{col}: {count} rows\")\n"
   ]
  },
  {
   "cell_type": "code",
   "execution_count": 959,
   "metadata": {},
   "outputs": [
    {
     "name": "stdout",
     "output_type": "stream",
     "text": [
      "Number of rows with 'Actual Ship Date' before 'Date Created': 1\n",
      "Rows with 'Actual Ship Date' before 'Date Created' have been dropped.\n"
     ]
    }
   ],
   "source": [
    "# Drop rows where 'Actual Ship Date' is before 'Date Created' might indicate a wrong entry\n",
    "if 'Actual Ship Date' in df.columns and 'Date Created' in df.columns:\n",
    "    invalid_ship_date_count = df[df['Actual Ship Date'] < df['Date Created']].shape[0]\n",
    "    print(f\"Number of rows with 'Actual Ship Date' before 'Date Created': {invalid_ship_date_count}\")\n",
    "    df = df[df['Actual Ship Date'] >= df['Date Created']]\n",
    "    print(\"Rows with 'Actual Ship Date' before 'Date Created' have been dropped.\")"
   ]
  },
  {
   "cell_type": "code",
   "execution_count": 960,
   "metadata": {},
   "outputs": [],
   "source": [
    "# Extract numerical components (year, month, day) from dates\n",
    "df['Date Created Year'] = df['Date Created'].dt.year\n",
    "df['Date Created Month'] = df['Date Created'].dt.month\n",
    "df['Date Created Day'] = df['Date Created'].dt.day\n",
    "\n",
    "df['Actual Ship Date Year'] = df['Actual Ship Date'].dt.year\n",
    "df['Actual Ship Date Month'] = df['Actual Ship Date'].dt.month\n",
    "df['Actual Ship Date Day'] = df['Actual Ship Date'].dt.day\n",
    "\n",
    "# Drop original date columns\n",
    "df = df.drop(columns=['Date Created', 'Actual Ship Date'])"
   ]
  },
  {
   "cell_type": "markdown",
   "metadata": {},
   "source": [
    "- Negative order amount"
   ]
  },
  {
   "cell_type": "code",
   "execution_count": 961,
   "metadata": {},
   "outputs": [
    {
     "name": "stdout",
     "output_type": "stream",
     "text": [
      "Number of rows with negative Order Amount: 1\n"
     ]
    }
   ],
   "source": [
    "# Check for negative Order Amount values (Might indicate returns)\n",
    "negative_values = df[df['Order Amount'] < 0]\n",
    "print(f\"Number of rows with negative Order Amount: {negative_values.shape[0]}\")"
   ]
  },
  {
   "cell_type": "markdown",
   "metadata": {},
   "source": [
    "- Clean text in Memo column"
   ]
  },
  {
   "cell_type": "code",
   "execution_count": 962,
   "metadata": {},
   "outputs": [],
   "source": [
    "# Replace line breaks with a space\n",
    "df['Memo'] = df['Memo'].str.replace('\\n', ' ', regex=True)"
   ]
  },
  {
   "cell_type": "markdown",
   "metadata": {},
   "source": [
    "- Drop irrelevant columns\n"
   ]
  },
  {
   "cell_type": "code",
   "execution_count": 963,
   "metadata": {},
   "outputs": [
    {
     "name": "stdout",
     "output_type": "stream",
     "text": [
      "Sales Order ID                976\n",
      "Sales Order Name              976\n",
      "Order Name                    226\n",
      "Item                            1\n",
      "Memo                          360\n",
      "Order Amount                 1008\n",
      "Employee Name                  17\n",
      "Project Use Type                9\n",
      "Sold to distributor             1\n",
      "50% Deposit received            2\n",
      "Certified                       1\n",
      "Rolls Ordered                 154\n",
      "Est. Extended Cost (Line)    1048\n",
      "Sales Region                   19\n",
      "Subsidiary                      1\n",
      "Parent Record                 247\n",
      "Date Created Year               6\n",
      "Date Created Month             12\n",
      "Date Created Day               31\n",
      "Actual Ship Date Year           6\n",
      "Actual Ship Date Month         12\n",
      "Actual Ship Date Day           31\n",
      "dtype: int64\n"
     ]
    }
   ],
   "source": [
    "unique_counts = df.nunique()\n",
    "print(unique_counts)\n"
   ]
  },
  {
   "cell_type": "code",
   "execution_count": 964,
   "metadata": {},
   "outputs": [],
   "source": [
    "# The following columns are dropped because they are identifiers or provide no meaningful information for predictive analysis:\n",
    "df = df.drop(['Sales Order ID', 'Order Name', 'Item', 'Employee Name', 'Sold to distributor', '50% Deposit received', 'Certified', 'Subsidiary'], axis=1, errors='ignore')"
   ]
  },
  {
   "cell_type": "code",
   "execution_count": 965,
   "metadata": {},
   "outputs": [
    {
     "name": "stdout",
     "output_type": "stream",
     "text": [
      "Cleaned data saved to Orders_Cleaned.csv\n"
     ]
    }
   ],
   "source": [
    "# Save cleaned data\n",
    "cleaned_data_path = 'Orders_Cleaned.csv'\n",
    "df.to_csv(cleaned_data_path, index=False)\n",
    "print(f\"Cleaned data saved to {cleaned_data_path}\")"
   ]
  },
  {
   "cell_type": "code",
   "execution_count": 966,
   "metadata": {},
   "outputs": [
    {
     "data": {
      "text/html": [
       "<div>\n",
       "<style scoped>\n",
       "    .dataframe tbody tr th:only-of-type {\n",
       "        vertical-align: middle;\n",
       "    }\n",
       "\n",
       "    .dataframe tbody tr th {\n",
       "        vertical-align: top;\n",
       "    }\n",
       "\n",
       "    .dataframe thead th {\n",
       "        text-align: right;\n",
       "    }\n",
       "</style>\n",
       "<table border=\"1\" class=\"dataframe\">\n",
       "  <thead>\n",
       "    <tr style=\"text-align: right;\">\n",
       "      <th></th>\n",
       "      <th>Sales Order Name</th>\n",
       "      <th>Memo</th>\n",
       "      <th>Order Amount</th>\n",
       "      <th>Project Use Type</th>\n",
       "      <th>Rolls Ordered</th>\n",
       "      <th>Est. Extended Cost (Line)</th>\n",
       "      <th>Sales Region</th>\n",
       "      <th>Parent Record</th>\n",
       "      <th>Date Created Year</th>\n",
       "      <th>Date Created Month</th>\n",
       "      <th>Date Created Day</th>\n",
       "      <th>Actual Ship Date Year</th>\n",
       "      <th>Actual Ship Date Month</th>\n",
       "      <th>Actual Ship Date Day</th>\n",
       "    </tr>\n",
       "  </thead>\n",
       "  <tbody>\n",
       "    <tr>\n",
       "      <th>0</th>\n",
       "      <td>S007092</td>\n",
       "      <td>GenieMat RST02  Sound Control Underlayment  30...</td>\n",
       "      <td>3490.48</td>\n",
       "      <td>NA</td>\n",
       "      <td>32.0</td>\n",
       "      <td>1448.16</td>\n",
       "      <td>NA</td>\n",
       "      <td>NA</td>\n",
       "      <td>2018</td>\n",
       "      <td>1</td>\n",
       "      <td>2</td>\n",
       "      <td>2018</td>\n",
       "      <td>1</td>\n",
       "      <td>2</td>\n",
       "    </tr>\n",
       "    <tr>\n",
       "      <th>1</th>\n",
       "      <td>S007094</td>\n",
       "      <td>GenieMat RST02  Sound Control Underlayment  30...</td>\n",
       "      <td>3490.48</td>\n",
       "      <td>NA</td>\n",
       "      <td>32.0</td>\n",
       "      <td>1448.16</td>\n",
       "      <td>NA</td>\n",
       "      <td>NA</td>\n",
       "      <td>2018</td>\n",
       "      <td>1</td>\n",
       "      <td>2</td>\n",
       "      <td>2018</td>\n",
       "      <td>2</td>\n",
       "      <td>15</td>\n",
       "    </tr>\n",
       "    <tr>\n",
       "      <th>2</th>\n",
       "      <td>S007095</td>\n",
       "      <td>GenieMat RST02  Sound Control Underlayment  30...</td>\n",
       "      <td>1308.93</td>\n",
       "      <td>NA</td>\n",
       "      <td>12.0</td>\n",
       "      <td>543.06</td>\n",
       "      <td>NA</td>\n",
       "      <td>NA</td>\n",
       "      <td>2018</td>\n",
       "      <td>1</td>\n",
       "      <td>2</td>\n",
       "      <td>2018</td>\n",
       "      <td>1</td>\n",
       "      <td>3</td>\n",
       "    </tr>\n",
       "    <tr>\n",
       "      <th>3</th>\n",
       "      <td>S007105</td>\n",
       "      <td>GenieMat RST02  Sound Control Underlayment  30...</td>\n",
       "      <td>36609.13</td>\n",
       "      <td>NA</td>\n",
       "      <td>336.0</td>\n",
       "      <td>15205.71</td>\n",
       "      <td>NA</td>\n",
       "      <td>NA</td>\n",
       "      <td>2018</td>\n",
       "      <td>1</td>\n",
       "      <td>3</td>\n",
       "      <td>2018</td>\n",
       "      <td>1</td>\n",
       "      <td>3</td>\n",
       "    </tr>\n",
       "    <tr>\n",
       "      <th>4</th>\n",
       "      <td>S007111</td>\n",
       "      <td>GenieMat RST02  Sound Control Underlayment  30...</td>\n",
       "      <td>1141.87</td>\n",
       "      <td>GenieMat FIT Only</td>\n",
       "      <td>8.0</td>\n",
       "      <td>362.04</td>\n",
       "      <td>South/Texas</td>\n",
       "      <td>E003442</td>\n",
       "      <td>2018</td>\n",
       "      <td>1</td>\n",
       "      <td>4</td>\n",
       "      <td>2018</td>\n",
       "      <td>3</td>\n",
       "      <td>7</td>\n",
       "    </tr>\n",
       "  </tbody>\n",
       "</table>\n",
       "</div>"
      ],
      "text/plain": [
       "  Sales Order Name                                               Memo  \\\n",
       "0          S007092  GenieMat RST02  Sound Control Underlayment  30...   \n",
       "1          S007094  GenieMat RST02  Sound Control Underlayment  30...   \n",
       "2          S007095  GenieMat RST02  Sound Control Underlayment  30...   \n",
       "3          S007105  GenieMat RST02  Sound Control Underlayment  30...   \n",
       "4          S007111  GenieMat RST02  Sound Control Underlayment  30...   \n",
       "\n",
       "   Order Amount   Project Use Type  Rolls Ordered  Est. Extended Cost (Line)  \\\n",
       "0       3490.48                 NA           32.0                    1448.16   \n",
       "1       3490.48                 NA           32.0                    1448.16   \n",
       "2       1308.93                 NA           12.0                     543.06   \n",
       "3      36609.13                 NA          336.0                   15205.71   \n",
       "4       1141.87  GenieMat FIT Only            8.0                     362.04   \n",
       "\n",
       "  Sales Region Parent Record  Date Created Year  Date Created Month  \\\n",
       "0           NA            NA               2018                   1   \n",
       "1           NA            NA               2018                   1   \n",
       "2           NA            NA               2018                   1   \n",
       "3           NA            NA               2018                   1   \n",
       "4  South/Texas       E003442               2018                   1   \n",
       "\n",
       "   Date Created Day  Actual Ship Date Year  Actual Ship Date Month  \\\n",
       "0                 2                   2018                       1   \n",
       "1                 2                   2018                       2   \n",
       "2                 2                   2018                       1   \n",
       "3                 3                   2018                       1   \n",
       "4                 4                   2018                       3   \n",
       "\n",
       "   Actual Ship Date Day  \n",
       "0                     2  \n",
       "1                    15  \n",
       "2                     3  \n",
       "3                     3  \n",
       "4                     7  "
      ]
     },
     "execution_count": 966,
     "metadata": {},
     "output_type": "execute_result"
    }
   ],
   "source": [
    "df.head()"
   ]
  },
  {
   "cell_type": "code",
   "execution_count": null,
   "metadata": {},
   "outputs": [],
   "source": []
  }
 ],
 "metadata": {
  "kernelspec": {
   "display_name": "Python 3",
   "language": "python",
   "name": "python3"
  },
  "language_info": {
   "codemirror_mode": {
    "name": "ipython",
    "version": 3
   },
   "file_extension": ".py",
   "mimetype": "text/x-python",
   "name": "python",
   "nbconvert_exporter": "python",
   "pygments_lexer": "ipython3",
   "version": "3.10.0"
  }
 },
 "nbformat": 4,
 "nbformat_minor": 2
}
